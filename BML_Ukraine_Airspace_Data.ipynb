{
  "nbformat": 4,
  "nbformat_minor": 0,
  "metadata": {
    "colab": {
      "name": "BML - Ukraine Airspace Data.ipynb",
      "provenance": [],
      "collapsed_sections": [],
      "authorship_tag": "ABX9TyPk03vdWzGXfwUvnJcah1/5",
      "include_colab_link": true
    },
    "kernelspec": {
      "name": "python3",
      "display_name": "Python 3"
    },
    "language_info": {
      "name": "python"
    }
  },
  "cells": [
    {
      "cell_type": "markdown",
      "metadata": {
        "id": "view-in-github",
        "colab_type": "text"
      },
      "source": [
        "<a href=\"https://colab.research.google.com/github/beatzbyJWE/machinelearnjoe/blob/master/BML_Ukraine_Airspace_Data.ipynb\" target=\"_parent\"><img src=\"https://colab.research.google.com/assets/colab-badge.svg\" alt=\"Open In Colab\"/></a>"
      ]
    },
    {
      "cell_type": "code",
      "execution_count": 26,
      "metadata": {
        "id": "6_EvzAdRiT9_"
      },
      "outputs": [],
      "source": [
        "import pandas as pd\n",
        "import numpy as np\n",
        "import kaggle"
      ]
    },
    {
      "cell_type": "code",
      "source": [
        "#pip install kaggle\n",
        "#! mkdir ~/.kaggle\n",
        "! cp kaggle.json ~/.kaggle/\n",
        "! chmod 600 ~/.kaggle/kaggle.json"
      ],
      "metadata": {
        "id": "n4y2_2WX-J_f"
      },
      "execution_count": 14,
      "outputs": []
    },
    {
      "cell_type": "code",
      "source": [
        "! kaggle datasets download -d rtwillett/ukrainian-airspace"
      ],
      "metadata": {
        "colab": {
          "base_uri": "https://localhost:8080/"
        },
        "id": "8EMfyG8K8I2N",
        "outputId": "70a5a823-8668-43f2-8a8a-86a6d14719ef"
      },
      "execution_count": 19,
      "outputs": [
        {
          "output_type": "stream",
          "name": "stdout",
          "text": [
            "Downloading ukrainian-airspace.zip to /content\n",
            " 98% 130M/132M [00:01<00:00, 93.6MB/s]\n",
            "100% 132M/132M [00:01<00:00, 110MB/s] \n"
          ]
        }
      ]
    },
    {
      "cell_type": "code",
      "source": [
        "df = pd.read_csv('/content/ukrainian-airspace.zip', header = None)\n",
        "df.columns = ['icao24', 'callsign','origin_country','time_position','last_contact','lon','lat','baro_altitude','on_ground','velocity','heading','vertical_rate','sensors','geo_altitude','squawk','spi','position_source']\n",
        "df.head()"
      ],
      "metadata": {
        "colab": {
          "base_uri": "https://localhost:8080/",
          "height": 357
        },
        "id": "shMPBO5kCd-H",
        "outputId": "95b30de5-ba2a-4770-c7a3-5c2ea601f7a7"
      },
      "execution_count": 25,
      "outputs": [
        {
          "output_type": "execute_result",
          "data": {
            "text/plain": [
              "   icao24 callsign  origin_country        time_position         last_contact  \\\n",
              "0  5110c8  ATG2101         Estonia  2022-02-22 15:28:35  2022-02-22 15:28:35   \n",
              "1  4248ef   SVR522  United Kingdom  2022-02-22 15:28:36  2022-02-22 15:28:36   \n",
              "2  471f8c  WZZ1550         Hungary  2022-02-22 15:28:28  2022-02-22 15:28:34   \n",
              "3  471f89  WZZ2276         Hungary  2022-02-22 15:28:34  2022-02-22 15:28:34   \n",
              "4  4248e6  SDM6413  United Kingdom  2022-02-22 15:28:35  2022-02-22 15:28:35   \n",
              "\n",
              "       lon      lat  baro_altitude  on_ground  velocity  heading  \\\n",
              "0  27.1995  45.5531        4884.42      False    122.59   224.49   \n",
              "1  37.7853  55.4932         891.54      False     85.05   145.35   \n",
              "2  21.2426  45.9153       10668.00      False    231.00   111.42   \n",
              "3  22.2773  46.0858        8557.26      False    221.14   102.90   \n",
              "4  45.0040  56.1057       11277.60      False    264.11    92.23   \n",
              "\n",
              "   vertical_rate  sensors  geo_altitude  squawk    spi  position_source  \n",
              "0           0.00      NaN       4823.46  5565.0  False                0  \n",
              "1          -4.88      NaN        746.76    10.0  False                0  \n",
              "2          -0.33      NaN      10553.70  6405.0  False                0  \n",
              "3          -9.75      NaN       8473.44  4362.0  False                0  \n",
              "4           0.00      NaN      10850.88   734.0  False                0  "
            ],
            "text/html": [
              "\n",
              "  <div id=\"df-8be1cf53-0f64-413b-8d99-ca1d2aab1fc9\">\n",
              "    <div class=\"colab-df-container\">\n",
              "      <div>\n",
              "<style scoped>\n",
              "    .dataframe tbody tr th:only-of-type {\n",
              "        vertical-align: middle;\n",
              "    }\n",
              "\n",
              "    .dataframe tbody tr th {\n",
              "        vertical-align: top;\n",
              "    }\n",
              "\n",
              "    .dataframe thead th {\n",
              "        text-align: right;\n",
              "    }\n",
              "</style>\n",
              "<table border=\"1\" class=\"dataframe\">\n",
              "  <thead>\n",
              "    <tr style=\"text-align: right;\">\n",
              "      <th></th>\n",
              "      <th>icao24</th>\n",
              "      <th>callsign</th>\n",
              "      <th>origin_country</th>\n",
              "      <th>time_position</th>\n",
              "      <th>last_contact</th>\n",
              "      <th>lon</th>\n",
              "      <th>lat</th>\n",
              "      <th>baro_altitude</th>\n",
              "      <th>on_ground</th>\n",
              "      <th>velocity</th>\n",
              "      <th>heading</th>\n",
              "      <th>vertical_rate</th>\n",
              "      <th>sensors</th>\n",
              "      <th>geo_altitude</th>\n",
              "      <th>squawk</th>\n",
              "      <th>spi</th>\n",
              "      <th>position_source</th>\n",
              "    </tr>\n",
              "  </thead>\n",
              "  <tbody>\n",
              "    <tr>\n",
              "      <th>0</th>\n",
              "      <td>5110c8</td>\n",
              "      <td>ATG2101</td>\n",
              "      <td>Estonia</td>\n",
              "      <td>2022-02-22 15:28:35</td>\n",
              "      <td>2022-02-22 15:28:35</td>\n",
              "      <td>27.1995</td>\n",
              "      <td>45.5531</td>\n",
              "      <td>4884.42</td>\n",
              "      <td>False</td>\n",
              "      <td>122.59</td>\n",
              "      <td>224.49</td>\n",
              "      <td>0.00</td>\n",
              "      <td>NaN</td>\n",
              "      <td>4823.46</td>\n",
              "      <td>5565.0</td>\n",
              "      <td>False</td>\n",
              "      <td>0</td>\n",
              "    </tr>\n",
              "    <tr>\n",
              "      <th>1</th>\n",
              "      <td>4248ef</td>\n",
              "      <td>SVR522</td>\n",
              "      <td>United Kingdom</td>\n",
              "      <td>2022-02-22 15:28:36</td>\n",
              "      <td>2022-02-22 15:28:36</td>\n",
              "      <td>37.7853</td>\n",
              "      <td>55.4932</td>\n",
              "      <td>891.54</td>\n",
              "      <td>False</td>\n",
              "      <td>85.05</td>\n",
              "      <td>145.35</td>\n",
              "      <td>-4.88</td>\n",
              "      <td>NaN</td>\n",
              "      <td>746.76</td>\n",
              "      <td>10.0</td>\n",
              "      <td>False</td>\n",
              "      <td>0</td>\n",
              "    </tr>\n",
              "    <tr>\n",
              "      <th>2</th>\n",
              "      <td>471f8c</td>\n",
              "      <td>WZZ1550</td>\n",
              "      <td>Hungary</td>\n",
              "      <td>2022-02-22 15:28:28</td>\n",
              "      <td>2022-02-22 15:28:34</td>\n",
              "      <td>21.2426</td>\n",
              "      <td>45.9153</td>\n",
              "      <td>10668.00</td>\n",
              "      <td>False</td>\n",
              "      <td>231.00</td>\n",
              "      <td>111.42</td>\n",
              "      <td>-0.33</td>\n",
              "      <td>NaN</td>\n",
              "      <td>10553.70</td>\n",
              "      <td>6405.0</td>\n",
              "      <td>False</td>\n",
              "      <td>0</td>\n",
              "    </tr>\n",
              "    <tr>\n",
              "      <th>3</th>\n",
              "      <td>471f89</td>\n",
              "      <td>WZZ2276</td>\n",
              "      <td>Hungary</td>\n",
              "      <td>2022-02-22 15:28:34</td>\n",
              "      <td>2022-02-22 15:28:34</td>\n",
              "      <td>22.2773</td>\n",
              "      <td>46.0858</td>\n",
              "      <td>8557.26</td>\n",
              "      <td>False</td>\n",
              "      <td>221.14</td>\n",
              "      <td>102.90</td>\n",
              "      <td>-9.75</td>\n",
              "      <td>NaN</td>\n",
              "      <td>8473.44</td>\n",
              "      <td>4362.0</td>\n",
              "      <td>False</td>\n",
              "      <td>0</td>\n",
              "    </tr>\n",
              "    <tr>\n",
              "      <th>4</th>\n",
              "      <td>4248e6</td>\n",
              "      <td>SDM6413</td>\n",
              "      <td>United Kingdom</td>\n",
              "      <td>2022-02-22 15:28:35</td>\n",
              "      <td>2022-02-22 15:28:35</td>\n",
              "      <td>45.0040</td>\n",
              "      <td>56.1057</td>\n",
              "      <td>11277.60</td>\n",
              "      <td>False</td>\n",
              "      <td>264.11</td>\n",
              "      <td>92.23</td>\n",
              "      <td>0.00</td>\n",
              "      <td>NaN</td>\n",
              "      <td>10850.88</td>\n",
              "      <td>734.0</td>\n",
              "      <td>False</td>\n",
              "      <td>0</td>\n",
              "    </tr>\n",
              "  </tbody>\n",
              "</table>\n",
              "</div>\n",
              "      <button class=\"colab-df-convert\" onclick=\"convertToInteractive('df-8be1cf53-0f64-413b-8d99-ca1d2aab1fc9')\"\n",
              "              title=\"Convert this dataframe to an interactive table.\"\n",
              "              style=\"display:none;\">\n",
              "        \n",
              "  <svg xmlns=\"http://www.w3.org/2000/svg\" height=\"24px\"viewBox=\"0 0 24 24\"\n",
              "       width=\"24px\">\n",
              "    <path d=\"M0 0h24v24H0V0z\" fill=\"none\"/>\n",
              "    <path d=\"M18.56 5.44l.94 2.06.94-2.06 2.06-.94-2.06-.94-.94-2.06-.94 2.06-2.06.94zm-11 1L8.5 8.5l.94-2.06 2.06-.94-2.06-.94L8.5 2.5l-.94 2.06-2.06.94zm10 10l.94 2.06.94-2.06 2.06-.94-2.06-.94-.94-2.06-.94 2.06-2.06.94z\"/><path d=\"M17.41 7.96l-1.37-1.37c-.4-.4-.92-.59-1.43-.59-.52 0-1.04.2-1.43.59L10.3 9.45l-7.72 7.72c-.78.78-.78 2.05 0 2.83L4 21.41c.39.39.9.59 1.41.59.51 0 1.02-.2 1.41-.59l7.78-7.78 2.81-2.81c.8-.78.8-2.07 0-2.86zM5.41 20L4 18.59l7.72-7.72 1.47 1.35L5.41 20z\"/>\n",
              "  </svg>\n",
              "      </button>\n",
              "      \n",
              "  <style>\n",
              "    .colab-df-container {\n",
              "      display:flex;\n",
              "      flex-wrap:wrap;\n",
              "      gap: 12px;\n",
              "    }\n",
              "\n",
              "    .colab-df-convert {\n",
              "      background-color: #E8F0FE;\n",
              "      border: none;\n",
              "      border-radius: 50%;\n",
              "      cursor: pointer;\n",
              "      display: none;\n",
              "      fill: #1967D2;\n",
              "      height: 32px;\n",
              "      padding: 0 0 0 0;\n",
              "      width: 32px;\n",
              "    }\n",
              "\n",
              "    .colab-df-convert:hover {\n",
              "      background-color: #E2EBFA;\n",
              "      box-shadow: 0px 1px 2px rgba(60, 64, 67, 0.3), 0px 1px 3px 1px rgba(60, 64, 67, 0.15);\n",
              "      fill: #174EA6;\n",
              "    }\n",
              "\n",
              "    [theme=dark] .colab-df-convert {\n",
              "      background-color: #3B4455;\n",
              "      fill: #D2E3FC;\n",
              "    }\n",
              "\n",
              "    [theme=dark] .colab-df-convert:hover {\n",
              "      background-color: #434B5C;\n",
              "      box-shadow: 0px 1px 3px 1px rgba(0, 0, 0, 0.15);\n",
              "      filter: drop-shadow(0px 1px 2px rgba(0, 0, 0, 0.3));\n",
              "      fill: #FFFFFF;\n",
              "    }\n",
              "  </style>\n",
              "\n",
              "      <script>\n",
              "        const buttonEl =\n",
              "          document.querySelector('#df-8be1cf53-0f64-413b-8d99-ca1d2aab1fc9 button.colab-df-convert');\n",
              "        buttonEl.style.display =\n",
              "          google.colab.kernel.accessAllowed ? 'block' : 'none';\n",
              "\n",
              "        async function convertToInteractive(key) {\n",
              "          const element = document.querySelector('#df-8be1cf53-0f64-413b-8d99-ca1d2aab1fc9');\n",
              "          const dataTable =\n",
              "            await google.colab.kernel.invokeFunction('convertToInteractive',\n",
              "                                                     [key], {});\n",
              "          if (!dataTable) return;\n",
              "\n",
              "          const docLinkHtml = 'Like what you see? Visit the ' +\n",
              "            '<a target=\"_blank\" href=https://colab.research.google.com/notebooks/data_table.ipynb>data table notebook</a>'\n",
              "            + ' to learn more about interactive tables.';\n",
              "          element.innerHTML = '';\n",
              "          dataTable['output_type'] = 'display_data';\n",
              "          await google.colab.output.renderOutput(dataTable, element);\n",
              "          const docLink = document.createElement('div');\n",
              "          docLink.innerHTML = docLinkHtml;\n",
              "          element.appendChild(docLink);\n",
              "        }\n",
              "      </script>\n",
              "    </div>\n",
              "  </div>\n",
              "  "
            ]
          },
          "metadata": {},
          "execution_count": 25
        }
      ]
    },
    {
      "cell_type": "code",
      "source": [
        ""
      ],
      "metadata": {
        "id": "b13q99W7DZ36"
      },
      "execution_count": null,
      "outputs": []
    },
    {
      "cell_type": "code",
      "source": [
        ""
      ],
      "metadata": {
        "id": "qajLEEESDQEl"
      },
      "execution_count": null,
      "outputs": []
    },
    {
      "cell_type": "code",
      "source": [
        ""
      ],
      "metadata": {
        "id": "csueUEgA_WEj"
      },
      "execution_count": null,
      "outputs": []
    }
  ]
}